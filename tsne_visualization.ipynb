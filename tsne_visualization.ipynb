{
 "cells": [
  {
   "cell_type": "code",
   "execution_count": null,
   "metadata": {},
   "outputs": [],
   "source": [
    "import torch\n",
    "import numpy as np\n",
    "import matplotlib.pyplot as plt\n",
    "from src.models import DummyNet\n",
    "from torch.utils.data import DataLoader\n",
    "from torchvision import transforms\n",
    "from torchvision.datasets import ImageFolder\n",
    "from sklearn.manifold import TSNE\n",
    "\n",
    "%matplotlib inline\n"
   ]
  },
  {
   "cell_type": "code",
   "execution_count": null,
   "metadata": {},
   "outputs": [],
   "source": [
    "device = torch.device(\"cuda\" if torch.cuda.is_available() else \"cpu\")\n",
    "checkpoint = torch.load(\"checkpoints/checkpoint_10.pkl\", map_location=device)\n",
    "model = DummyNet().to(device)\n",
    "model.load_state_dict(checkpoint[\"model\"])\n"
   ]
  },
  {
   "cell_type": "code",
   "execution_count": null,
   "metadata": {},
   "outputs": [],
   "source": [
    "dataset = ImageFolder(\n",
    "    root=\"dataset/\",\n",
    "    transform=transforms.Compose(\n",
    "        [transforms.ToTensor(), transforms.Resize((224, 224))]\n",
    "    ),\n",
    ")\n",
    "\n",
    "loader = DataLoader(dataset, batch_size=200, shuffle=True)\n",
    "images, labels = next(iter(loader))\n",
    "images.size(), labels.size()\n"
   ]
  },
  {
   "cell_type": "code",
   "execution_count": null,
   "metadata": {},
   "outputs": [],
   "source": [
    "images = images.to(device)\n",
    "embedded_images = model(images)\n",
    "embedded_images = embedded_images.detach().cpu().numpy()\n",
    "embedded_images = TSNE(\n",
    "    n_components=2,\n",
    "    learning_rate=\"auto\",\n",
    "    init=\"pca\",\n",
    ").fit_transform(embedded_images)\n",
    "embedded_images.shape"
   ]
  },
  {
   "cell_type": "code",
   "execution_count": null,
   "metadata": {},
   "outputs": [],
   "source": [
    "plt.figure(dpi=100)\n",
    "scatter = plt.scatter(embedded_images[:, 0], embedded_images[:, 1], c=labels)\n",
    "handles, _ = scatter.legend_elements(prop=\"colors\")\n",
    "plt.legend(handles, dataset.classes)\n",
    "plt.title(\n",
    "    \"Visualizing The Encoded Data Using t-SNE\\nModel: {}\".format(\n",
    "        model.__class__.__name__\n",
    "    ),\n",
    "    fontsize=10,\n",
    ")\n",
    "plt.xlabel(\"$x_1$\", fontsize=15)\n",
    "plt.ylabel(\"$x_2$\", fontsize=15)\n",
    "plt.savefig(\"tsne_vis_.jpg\")"
   ]
  }
 ],
 "metadata": {
  "kernelspec": {
   "display_name": "Python 3",
   "language": "python",
   "name": "python3"
  },
  "language_info": {
   "codemirror_mode": {
    "name": "ipython",
    "version": 3
   },
   "file_extension": ".py",
   "mimetype": "text/x-python",
   "name": "python",
   "nbconvert_exporter": "python",
   "pygments_lexer": "ipython3",
   "version": "3.10.5"
  },
  "orig_nbformat": 4,
  "vscode": {
   "interpreter": {
    "hash": "8c3d4d9970fc5c09c50d9318a9c7fbf4d0159e4b28833276f5678ee22bded273"
   }
  }
 },
 "nbformat": 4,
 "nbformat_minor": 2
}
